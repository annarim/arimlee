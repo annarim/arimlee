{
  "nbformat": 4,
  "nbformat_minor": 0,
  "metadata": {
    "colab": {
      "provenance": [],
      "authorship_tag": "ABX9TyMrnubNuNryc1+oN3E64EUb",
      "include_colab_link": true
    },
    "kernelspec": {
      "name": "python3",
      "display_name": "Python 3"
    },
    "language_info": {
      "name": "python"
    }
  },
  "cells": [
    {
      "cell_type": "markdown",
      "metadata": {
        "id": "view-in-github",
        "colab_type": "text"
      },
      "source": [
        "<a href=\"https://colab.research.google.com/github/annarim/arimlee/blob/main/Untitled1.ipynb\" target=\"_parent\"><img src=\"https://colab.research.google.com/assets/colab-badge.svg\" alt=\"Open In Colab\"/></a>"
      ]
    },
    {
      "cell_type": "code",
      "execution_count": null,
      "metadata": {
        "colab": {
          "base_uri": "https://localhost:8080/"
        },
        "id": "MU5mWwP8b-zd",
        "outputId": "f688e86f-537f-4c55-fcfc-f86b8dec4205"
      },
      "outputs": [
        {
          "output_type": "stream",
          "name": "stdout",
          "text": [
            "a+b=a+b입니다\n",
            "4 + 5 = 9 입니다\n",
            "4+5=9입니다\n",
            "3+4는 7입니다\n"
          ]
        }
      ],
      "source": [
        "a=4\n",
        "b=5\n",
        "\n",
        "print(\"a+b=a+b입니다\")\n",
        "print(a,\"+\",b,\"=\",a+b,\"입니다\")\n",
        "\n",
        "print(f\"{a}+{b}={a+b}입니다\")\n",
        "\n",
        "a=3; b=4\n",
        "print(\"{0}+{1}는 {2}입니다\".format(a,b,a+b))\n"
      ]
    },
    {
      "cell_type": "code",
      "source": [
        "print(\"1234567890\")\n",
        "print(\"%10d\"   %12.45632)\n",
        "print(\"%10.3f\" %12.45632)"
      ],
      "metadata": {
        "colab": {
          "base_uri": "https://localhost:8080/"
        },
        "id": "yI39DshdlSf5",
        "outputId": "e5e13990-e321-49db-ef4f-0f67a91004e8"
      },
      "execution_count": null,
      "outputs": [
        {
          "output_type": "stream",
          "name": "stdout",
          "text": [
            "1234567890\n",
            "        12\n",
            "    12.456\n"
          ]
        }
      ]
    },
    {
      "cell_type": "code",
      "source": [
        "print(2,3,4, sep=',')\n",
        "print(1,\"\\n\",2,\"\\n\",3,\"\\n\")\n",
        "\n"
      ],
      "metadata": {
        "colab": {
          "base_uri": "https://localhost:8080/"
        },
        "id": "wVdcHY65mwyr",
        "outputId": "5d10a20e-de67-46cd-8b97-830e17c1cff5"
      },
      "execution_count": null,
      "outputs": [
        {
          "output_type": "stream",
          "name": "stdout",
          "text": [
            "2,3,4\n",
            "1 \n",
            " 2 \n",
            " 3 \n",
            "\n",
            "1|n2|n3\n"
          ]
        }
      ]
    },
    {
      "cell_type": "code",
      "source": [
        "a=int(input(\"정수1 입력?\"))"
      ],
      "metadata": {
        "id": "ug1aA-DEs-dl"
      },
      "execution_count": null,
      "outputs": []
    }
  ]
}