{
  "nbformat": 4,
  "nbformat_minor": 0,
  "metadata": {
    "colab": {
      "provenance": [],
      "authorship_tag": "ABX9TyMeItm+jEAYASLs9990ex3p",
      "include_colab_link": true
    },
    "kernelspec": {
      "name": "python3",
      "display_name": "Python 3"
    },
    "language_info": {
      "name": "python"
    }
  },
  "cells": [
    {
      "cell_type": "markdown",
      "metadata": {
        "id": "view-in-github",
        "colab_type": "text"
      },
      "source": [
        "<a href=\"https://colab.research.google.com/github/annarim/arimlee/blob/main/Untitled41.ipynb\" target=\"_parent\"><img src=\"https://colab.research.google.com/assets/colab-badge.svg\" alt=\"Open In Colab\"/></a>"
      ]
    },
    {
      "cell_type": "code",
      "execution_count": 2,
      "metadata": {
        "colab": {
          "base_uri": "https://localhost:8080/",
          "height": 489
        },
        "id": "NpRUrgz7G_iO",
        "outputId": "b51d337b-bf09-4fc6-ccf1-45babdc7e6a0"
      },
      "outputs": [
        {
          "output_type": "stream",
          "name": "stdout",
          "text": [
            "(60000, 28, 28) (10000, 28, 28)\n"
          ]
        },
        {
          "output_type": "display_data",
          "data": {
            "text/plain": [
              "<Figure size 640x480 with 1 Axes>"
            ],
            "image/png": "[encoded data removed]"
          },
          "metadata": {}
        },
        {
          "output_type": "stream",
          "name": "stdout",
          "text": [
            "훈련용 데이터의 형태: (60000, 784) 테스트용 데이터 형태: (10000, 784)\n"
          ]
        }
      ],
      "source": [
        "import numpy as np\n",
        "import matplotlib.pyplot as plt\n",
        "import tensorflow as tf\n",
        "from tensorflow.keras.datasets import mnist\n",
        "\n",
        "#MNIST 읽어들이기\n",
        "(x_train, t_train),(x_test, t_test) = mnist.load_data()\n",
        "print(x_train.shape, x_test.shape) #훈련데이터,테스트 데이터 모양 출력\n",
        "\n",
        "x_train = x_train/255\n",
        "x_test = x_test/255\n",
        "\n",
        "plt.imshow(x_train[0].reshape(28,28), cmap=\"gray\")\n",
        "plt.title(t_train[0])\n",
        "plt.show()\n",
        "\n",
        "x_train = x_train.reshape(x_train.shape[0],-1)\n",
        "x_test = x_test.reshape(x_test.shape[0],-1)\n",
        "print(\"훈련용 데이터의 형태:\", x_train.shape, \"테스트용 데이터 형태:\", x_test.shape)"
      ]
    },
    {
      "cell_type": "code",
      "source": [
        "epochs = 10\n",
        "batch_size = 128\n",
        "n_in_out = 784\n",
        "n_z = 2\n",
        "n_mid = 256\n",
        "\n",
        "from tensorflow.python.keras.models import Model\n",
        "from tensorflow.python.keras import metrics\n",
        "\n",
        "from tensorflow.python.keras.layers import Input, Dense, Lambda\n",
        "from tensorflow.python.keras import backend as K\n",
        "\n",
        "def z_sample(args):\n",
        "  mu, log_var = args\n",
        "  epsilon = K.random_normal(shape=K.shape(log_var), mean=0, stddev=1)\n",
        "  return mu + epsilon * K.exp(log_var/2)\n",
        "\n",
        "x = Input(shape=(n_in_out,))\n",
        "h_encoder = Dense(n_mid, activation=\"relu\")(x)\n",
        "mu = Dense(n_z)(h_encoder)\n",
        "log_var = Dense(n_z)(h_encoder)\n",
        "z = Lambda(z_sample, output_shape=(n_z,))([mu, log_var])\n",
        "\n",
        "mid_decoder = Dense(n_mid, activation=\"relu\")\n",
        "h_decoder = mid_decoder(z)\n",
        "out_decoder = Dense(n_in_out, activation=\"sigmoid\")\n",
        "y = out_decoder(h_decoder)\n",
        "\n",
        "model_vae = Model(x,y)\n",
        "\n",
        "eps = 1e-7\n",
        "rec_loss = K.sum(-x*K.log(y+eps)-(1-x)*K.log(1-y+eps))/batch_size\n",
        "\n",
        "reg_loss = -0.5*K.sum(1+log_var-K.square(mu)-K.exp(log_var))/batch_size\n",
        "vae_loss = rec_loss+reg_loss\n",
        "\n",
        "model_vae.add_loss(vae_loss)\n",
        "model_vae.compile(optimizer=\"adam\")\n",
        "model_vae.summary()"
      ],
      "metadata": {
        "colab": {
          "base_uri": "https://localhost:8080/"
        },
        "id": "VC7ubXJQJNkB",
        "outputId": "bc5ed3af-8854-4ae9-b0b6-571cb45ff75f"
      },
      "execution_count": 13,
      "outputs": [
        {
          "output_type": "stream",
          "name": "stdout",
          "text": [
            "Model: \"model_2\"\n",
            "__________________________________________________________________________________________________\n",
            "Layer (type)                    Output Shape         Param #     Connected to                     \n",
            "==================================================================================================\n",
            "input_8 (InputLayer)            [(None, 784)]        0                                            \n",
            "__________________________________________________________________________________________________\n",
            "dense_22 (Dense)                (None, 256)          200960      input_8[0][0]                    \n",
            "__________________________________________________________________________________________________\n",
            "dense_23 (Dense)                (None, 2)            514         dense_22[0][0]                   \n",
            "__________________________________________________________________________________________________\n",
            "dense_24 (Dense)                (None, 2)            514         dense_22[0][0]                   \n",
            "__________________________________________________________________________________________________\n",
            "lambda_4 (Lambda)               (None, 2)            0           dense_23[0][0]                   \n",
            "                                                                 dense_24[0][0]                   \n",
            "__________________________________________________________________________________________________\n",
            "dense_25 (Dense)                (None, 256)          768         lambda_4[0][0]                   \n",
            "__________________________________________________________________________________________________\n",
            "dense_26 (Dense)                (None, 784)          201488      dense_25[0][0]                   \n",
            "__________________________________________________________________________________________________\n",
            "tf.math.subtract_8 (TFOpLambda) (None, 784)          0           dense_26[0][0]                   \n",
            "__________________________________________________________________________________________________\n",
            "tf.__operators__.add_2 (TFOpLam (None, 784)          0           dense_26[0][0]                   \n",
            "__________________________________________________________________________________________________\n",
            "tf.__operators__.add_3 (TFOpLam (None, 784)          0           tf.math.subtract_8[0][0]         \n",
            "__________________________________________________________________________________________________\n",
            "tf.__operators__.add_4 (TFOpLam (None, 2)            0           dense_24[0][0]                   \n",
            "__________________________________________________________________________________________________\n",
            "tf.math.square (TFOpLambda)     (None, 2)            0           dense_23[0][0]                   \n",
            "__________________________________________________________________________________________________\n",
            "tf.math.negative_1 (TFOpLambda) (None, 784)          0           input_8[0][0]                    \n",
            "__________________________________________________________________________________________________\n",
            "tf.math.log_2 (TFOpLambda)      (None, 784)          0           tf.__operators__.add_2[0][0]     \n",
            "__________________________________________________________________________________________________\n",
            "tf.math.subtract_7 (TFOpLambda) (None, 784)          0           input_8[0][0]                    \n",
            "__________________________________________________________________________________________________\n",
            "tf.math.log_3 (TFOpLambda)      (None, 784)          0           tf.__operators__.add_3[0][0]     \n",
            "__________________________________________________________________________________________________\n",
            "tf.math.subtract_10 (TFOpLambda (None, 2)            0           tf.__operators__.add_4[0][0]     \n",
            "                                                                 tf.math.square[0][0]             \n",
            "__________________________________________________________________________________________________\n",
            "tf.math.exp (TFOpLambda)        (None, 2)            0           dense_24[0][0]                   \n",
            "__________________________________________________________________________________________________\n",
            "tf.math.multiply_2 (TFOpLambda) (None, 784)          0           tf.math.negative_1[0][0]         \n",
            "                                                                 tf.math.log_2[0][0]              \n",
            "__________________________________________________________________________________________________\n",
            "tf.math.multiply_3 (TFOpLambda) (None, 784)          0           tf.math.subtract_7[0][0]         \n",
            "                                                                 tf.math.log_3[0][0]              \n",
            "__________________________________________________________________________________________________\n",
            "tf.math.subtract_11 (TFOpLambda (None, 2)            0           tf.math.subtract_10[0][0]        \n",
            "                                                                 tf.math.exp[0][0]                \n",
            "__________________________________________________________________________________________________\n",
            "tf.math.subtract_9 (TFOpLambda) (None, 784)          0           tf.math.multiply_2[0][0]         \n",
            "                                                                 tf.math.multiply_3[0][0]         \n",
            "__________________________________________________________________________________________________\n",
            "tf.math.reduce_sum_2 (TFOpLambd ()                   0           tf.math.subtract_11[0][0]        \n",
            "__________________________________________________________________________________________________\n",
            "tf.math.reduce_sum_1 (TFOpLambd ()                   0           tf.math.subtract_9[0][0]         \n",
            "__________________________________________________________________________________________________\n",
            "tf.math.multiply_4 (TFOpLambda) ()                   0           tf.math.reduce_sum_2[0][0]       \n",
            "__________________________________________________________________________________________________\n",
            "tf.math.truediv_1 (TFOpLambda)  ()                   0           tf.math.reduce_sum_1[0][0]       \n",
            "__________________________________________________________________________________________________\n",
            "tf.math.truediv_2 (TFOpLambda)  ()                   0           tf.math.multiply_4[0][0]         \n",
            "__________________________________________________________________________________________________\n",
            "tf.__operators__.add_5 (TFOpLam ()                   0           tf.math.truediv_1[0][0]          \n",
            "                                                                 tf.math.truediv_2[0][0]          \n",
            "__________________________________________________________________________________________________\n",
            "add_loss (AddLoss)              ()                   0           tf.__operators__.add_5[0][0]     \n",
            "==================================================================================================\n",
            "Total params: 404,244\n",
            "Trainable params: 404,244\n",
            "Non-trainable params: 0\n",
            "__________________________________________________________________________________________________\n"
          ]
        }
      ]
    }
  ]
}